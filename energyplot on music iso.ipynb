{
 "cells": [
  {
   "cell_type": "code",
   "execution_count": 57,
   "id": "8fd7919a",
   "metadata": {},
   "outputs": [],
   "source": [
    "import os\n",
    "import shutil\n",
    "import re\n",
    "\n",
    "folder_path= r'C:/Users/prath/OneDrive/Desktop/aout/A_out/only voice'\n",
    "v_names = os.listdir(folder_path)\n",
    "\n",
    "v_names = [name for name in v_names if os.path.isfile(os.path.join(folder_path, name))]\n",
    "\n",
    "l=[]\n",
    "\n",
    "for i in v_names:\n",
    "    l.append(i[:3])"
   ]
  },
  {
   "cell_type": "code",
   "execution_count": 47,
   "id": "6b03e561",
   "metadata": {},
   "outputs": [
    {
     "data": {
      "text/plain": [
       "['114',\n",
       " '115',\n",
       " '116',\n",
       " '117',\n",
       " '118',\n",
       " '119',\n",
       " '120',\n",
       " '121',\n",
       " '122',\n",
       " '123',\n",
       " '124',\n",
       " '125',\n",
       " '126',\n",
       " '127',\n",
       " '128',\n",
       " '139',\n",
       " '140',\n",
       " '141',\n",
       " '142',\n",
       " '143',\n",
       " '144',\n",
       " '145',\n",
       " '146',\n",
       " '147',\n",
       " '148',\n",
       " '149',\n",
       " '150',\n",
       " '151',\n",
       " '152',\n",
       " '153',\n",
       " '154',\n",
       " '190',\n",
       " '191',\n",
       " '192',\n",
       " '193',\n",
       " '194',\n",
       " '195',\n",
       " '196',\n",
       " '197',\n",
       " '198',\n",
       " '231',\n",
       " '232',\n",
       " '233',\n",
       " '234',\n",
       " '291',\n",
       " '292',\n",
       " '296',\n",
       " '307',\n",
       " '308',\n",
       " '309',\n",
       " '310',\n",
       " '311',\n",
       " '312',\n",
       " '313',\n",
       " '314',\n",
       " '315',\n",
       " '316',\n",
       " '317',\n",
       " '318',\n",
       " '319',\n",
       " '320',\n",
       " '321',\n",
       " '331',\n",
       " '332',\n",
       " '333',\n",
       " '334',\n",
       " '335',\n",
       " '439',\n",
       " '440',\n",
       " '441',\n",
       " '442',\n",
       " '443',\n",
       " '444',\n",
       " '445',\n",
       " '446',\n",
       " '447',\n",
       " '448',\n",
       " '449',\n",
       " '450',\n",
       " '451',\n",
       " '452',\n",
       " '453',\n",
       " '454',\n",
       " '455',\n",
       " '456',\n",
       " '457',\n",
       " '458',\n",
       " '459',\n",
       " '460',\n",
       " '461',\n",
       " '462',\n",
       " '463',\n",
       " '464',\n",
       " '465',\n",
       " '466',\n",
       " '467',\n",
       " '468',\n",
       " '469',\n",
       " '470',\n",
       " '471',\n",
       " '478',\n",
       " '479',\n",
       " '480',\n",
       " '481',\n",
       " '482',\n",
       " '554',\n",
       " '555',\n",
       " '556',\n",
       " '557',\n",
       " '558',\n",
       " '559',\n",
       " '560',\n",
       " '561',\n",
       " '562',\n",
       " '563',\n",
       " '564',\n",
       " '565',\n",
       " '566',\n",
       " '705',\n",
       " '706',\n",
       " '707',\n",
       " '708',\n",
       " '709',\n",
       " '710',\n",
       " '711',\n",
       " '712',\n",
       " '713',\n",
       " '714',\n",
       " '715',\n",
       " '716',\n",
       " '717',\n",
       " '718',\n",
       " '719',\n",
       " '720',\n",
       " '721',\n",
       " '722',\n",
       " '723',\n",
       " '724',\n",
       " '725',\n",
       " '726',\n",
       " '727',\n",
       " '728',\n",
       " '729',\n",
       " '730',\n",
       " '731',\n",
       " '732',\n",
       " '780',\n",
       " '781']"
      ]
     },
     "execution_count": 47,
     "metadata": {},
     "output_type": "execute_result"
    }
   ],
   "source": [
    "l"
   ]
  },
  {
   "cell_type": "code",
   "execution_count": 9,
   "id": "ddb0f6d8",
   "metadata": {},
   "outputs": [],
   "source": [
    "path=\"C:/Users/prath/OneDrive/Desktop/aout/A_out/only voice segregated/\"\n",
    "\n",
    "for i in range(len(l)):\n",
    "    o=path+l[i]\n",
    "    n=\"C:/Users/prath/OneDrive/Desktop/aout/A_out/only_music/\"+l[i]\n",
    "    shutil.move(n,o)"
   ]
  },
  {
   "cell_type": "code",
   "execution_count": 15,
   "id": "872efec3",
   "metadata": {},
   "outputs": [],
   "source": [
    "path=\"C:/Users/prath/OneDrive/Desktop/aout/A_out/only voice segregated/\"\n",
    "\n",
    "for i in range(len(l)):\n",
    "    o=path+l[i]+f'/m{l[i]}.mp3'\n",
    "    n=\"C:/Users/prath/OneDrive/Desktop/aout/A_out/only_music/\"+f'm{l[i]}.mp3'\n",
    "    shutil.move(o,n)"
   ]
  },
  {
   "cell_type": "code",
   "execution_count": null,
   "id": "f5c3d1ff",
   "metadata": {},
   "outputs": [],
   "source": [
    "#new"
   ]
  },
  {
   "cell_type": "code",
   "execution_count": 54,
   "id": "d6dd97cd",
   "metadata": {},
   "outputs": [],
   "source": [
    "folder_path2= r'C:/Users/prath/OneDrive/Desktop/aout/A_out/Voice+music segregated'\n",
    "\n",
    "\n",
    "m_names = os.listdir(folder_path2)\n",
    "\n"
   ]
  },
  {
   "cell_type": "code",
   "execution_count": 56,
   "id": "993e98f5",
   "metadata": {},
   "outputs": [
    {
     "data": {
      "text/plain": [
       "914"
      ]
     },
     "execution_count": 56,
     "metadata": {},
     "output_type": "execute_result"
    }
   ],
   "source": [
    "len(m_names)"
   ]
  },
  {
   "cell_type": "code",
   "execution_count": 66,
   "id": "61f6ba6d",
   "metadata": {},
   "outputs": [],
   "source": [
    "\n",
    "path2=\"C:/Users/prath/OneDrive/Desktop/aout/A_out/Voice+music segregated/\"\n",
    "\n",
    "for i in range(len(m_names)):\n",
    "    o=path2+m_names[i]+f'/m{m_names[i]}.mp3'\n",
    "    n=\"C:/Users/prath/OneDrive/Desktop/aout/A_out/vm_seg/\"+f'm{m_names[i]}.mp3'\n",
    "    shutil.move(o,n)"
   ]
  },
  {
   "cell_type": "code",
   "execution_count": 67,
   "id": "9fb18199",
   "metadata": {},
   "outputs": [],
   "source": [
    "\n",
    "\n",
    "folder_path = 'C:/Users/prath/OneDrive/Desktop/aout/A_out/only_music' \n",
    "\n",
    "v_names = os.listdir(folder_path)\n",
    "\n",
    "v_names = [name for name in v_names if os.path.isfile(os.path.join(folder_path, name))]"
   ]
  },
  {
   "cell_type": "code",
   "execution_count": 68,
   "id": "c24ca133",
   "metadata": {},
   "outputs": [
    {
     "data": {
      "text/plain": [
       "148"
      ]
     },
     "execution_count": 68,
     "metadata": {},
     "output_type": "execute_result"
    }
   ],
   "source": [
    "len(v_names)"
   ]
  },
  {
   "cell_type": "code",
   "execution_count": 73,
   "id": "8fe02728",
   "metadata": {},
   "outputs": [],
   "source": [
    "folder_path = 'C:/Users/prath/OneDrive/Desktop/aout/A_out/vm_seg' \n",
    "\n",
    "vm_names = os.listdir(folder_path)\n",
    "\n",
    "vm_names = [name for name in vm_names if os.path.isfile(os.path.join(folder_path, name))]"
   ]
  },
  {
   "cell_type": "code",
   "execution_count": 74,
   "id": "e0fccee6",
   "metadata": {},
   "outputs": [
    {
     "data": {
      "text/plain": [
       "913"
      ]
     },
     "execution_count": 74,
     "metadata": {},
     "output_type": "execute_result"
    }
   ],
   "source": [
    "len(vm_names)"
   ]
  },
  {
   "cell_type": "code",
   "execution_count": 60,
   "id": "4a1677bf",
   "metadata": {},
   "outputs": [],
   "source": [
    "import numpy as np\n",
    "import matplotlib.pyplot as plt\n",
    "import librosa\n",
    "import seaborn as sns\n",
    "energy_v=[]\n",
    "time_v=[]\n",
    "for i in range(len(v_names)): \n",
    "    \n",
    " k=v_names[i]\n",
    " audio_file = \"C:/Users/prath/OneDrive/Desktop/aout/A_out/only_music/\"+k \n",
    " audio, sr = librosa.load(audio_file)\n",
    " e = np.sum(audio**2)\n",
    " energy_v.append(e)\n",
    " duration = len(audio) / sr\n",
    " time_v.append(duration)"
   ]
  },
  {
   "cell_type": "code",
   "execution_count": 75,
   "id": "ce15194c",
   "metadata": {},
   "outputs": [],
   "source": [
    "energy_m=[]\n",
    "time_m=[]\n",
    "for i in range(len(vm_names)): \n",
    "    \n",
    " k=vm_names[i]\n",
    " audio_file = \"C:/Users/prath/OneDrive/Desktop/aout/A_out/vm_seg/\"+k \n",
    " audio, sr = librosa.load(audio_file)\n",
    " e = np.sum(audio**2)\n",
    " energy_m.append(e)\n",
    " duration = len(audio) / sr\n",
    " time_m.append(duration)"
   ]
  },
  {
   "cell_type": "code",
   "execution_count": 83,
   "id": "cfdc431b",
   "metadata": {},
   "outputs": [
    {
     "data": {
      "image/png": "[encoded data removed]",
      "text/plain": [
       "<Figure size 640x480 with 1 Axes>"
      ]
     },
     "metadata": {},
     "output_type": "display_data"
    }
   ],
   "source": [
    "sns.histplot(energy_v,color='red')\n",
    "plt.xlabel('Energy')\n",
    "plt.ylabel('No.of samples for each bar')\n",
    "plt.title('only music')\n",
    "\n",
    "plt.xlim(0,3)\n",
    "\n",
    "plt.show()"
   ]
  },
  {
   "cell_type": "code",
   "execution_count": 84,
   "id": "0baac286",
   "metadata": {},
   "outputs": [
    {
     "data": {
      "image/png": "[encoded data removed]",
      "text/plain": [
       "<Figure size 640x480 with 1 Axes>"
      ]
     },
     "metadata": {},
     "output_type": "display_data"
    }
   ],
   "source": [
    "sns.histplot(energy_m,color='red')\n",
    "plt.xlabel('Energy')\n",
    "plt.ylabel('No.of samples for each bar')\n",
    "plt.title('Voice+music')\n",
    "\n",
    "plt.xlim(0,3)\n",
    "\n",
    "plt.show()"
   ]
  },
  {
   "cell_type": "code",
   "execution_count": 80,
   "id": "45c9f495",
   "metadata": {},
   "outputs": [
    {
     "data": {
      "image/png": "[encoded data removed]",
      "text/plain": [
       "<Figure size 1000x400 with 2 Axes>"
      ]
     },
     "metadata": {},
     "output_type": "display_data"
    }
   ],
   "source": [
    "fig, (ax1, ax2) = plt.subplots(1, 2, figsize=(10, 4))\n",
    "\n",
    "sns.histplot(energy_v, ax=ax1,color='red')\n",
    "ax1.set_xlabel('Energy')\n",
    "ax1.set_ylabel('No.of samples for each bar')\n",
    "ax1.set_title('Only voice')\n",
    "\n",
    "sns.histplot(energy_m, ax=ax2)\n",
    "ax2.set_xlabel('Energy')\n",
    "ax2.set_ylabel('No.of samples for each bar')\n",
    "ax2.set_title('Voice + music')\n",
    "\n",
    "plt.tight_layout()\n",
    "\n",
    "plt.show()"
   ]
  },
  {
   "cell_type": "code",
   "execution_count": 90,
   "id": "55f249cc",
   "metadata": {},
   "outputs": [
    {
     "name": "stdout",
     "output_type": "stream",
     "text": [
      "m1001.mp3\n",
      "m1004.mp3\n",
      "m1005.mp3\n",
      "m1061.mp3\n",
      "m112.mp3\n",
      "m113.mp3\n",
      "m129.mp3\n",
      "m176.mp3\n",
      "m298.mp3\n",
      "m299.mp3\n",
      "m303.mp3\n",
      "m304.mp3\n",
      "m314.mp3\n",
      "m322.mp3\n",
      "m323.mp3\n",
      "m324.mp3\n",
      "m325.mp3\n",
      "m326.mp3\n",
      "m327.mp3\n",
      "m328.mp3\n",
      "m329.mp3\n",
      "m330.mp3\n",
      "m343.mp3\n",
      "m345.mp3\n",
      "m353.mp3\n",
      "m371.mp3\n",
      "m373.mp3\n",
      "m374.mp3\n",
      "m375.mp3\n",
      "m376.mp3\n",
      "m472.mp3\n",
      "m513.mp3\n",
      "m567.mp3\n",
      "m60.mp3\n",
      "m601.mp3\n",
      "m733.mp3\n",
      "m734.mp3\n",
      "m77.mp3\n",
      "m841.mp3\n",
      "m842.mp3\n",
      "m844.mp3\n",
      "m845.mp3\n",
      "m846.mp3\n",
      "m847.mp3\n",
      "m848.mp3\n",
      "m849.mp3\n",
      "m85.mp3\n",
      "m850.mp3\n",
      "m859.mp3\n",
      "m86.mp3\n",
      "m867.mp3\n",
      "m963.mp3\n",
      "m975.mp3\n",
      "m984.mp3\n",
      "m986.mp3\n",
      "m995.mp3\n"
     ]
    }
   ],
   "source": [
    "for i in range(len( energy_m)):\n",
    "    if energy_m[i]<0.5:\n",
    "        print(vm_names[i])"
   ]
  },
  {
   "cell_type": "code",
   "execution_count": null,
   "id": "610223fe",
   "metadata": {},
   "outputs": [],
   "source": []
  }
 ],
 "metadata": {
  "kernelspec": {
   "display_name": "Python 3 (ipykernel)",
   "language": "python",
   "name": "python3"
  },
  "language_info": {
   "codemirror_mode": {
    "name": "ipython",
    "version": 3
   },
   "file_extension": ".py",
   "mimetype": "text/x-python",
   "name": "python",
   "nbconvert_exporter": "python",
   "pygments_lexer": "ipython3",
   "version": "3.10.9"
  }
 },
 "nbformat": 4,
 "nbformat_minor": 5
}
